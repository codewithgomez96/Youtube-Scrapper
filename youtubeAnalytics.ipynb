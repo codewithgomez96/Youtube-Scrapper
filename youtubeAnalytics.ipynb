{
 "cells": [
  {
   "cell_type": "code",
   "execution_count": 4,
   "id": "9ffdd0c6-6c1c-4c7d-97f5-3b8969a8e920",
   "metadata": {},
   "outputs": [],
   "source": [
    "#import codecs\n",
    "import codecs\n",
    "from bs4 import BeautifulSoup\n",
    "# Import pandas library\n",
    "import pandas as pd"
   ]
  },
  {
   "cell_type": "code",
   "execution_count": 5,
   "id": "2eb42760-13cd-4a4a-bd66-81a80a6c74e0",
   "metadata": {},
   "outputs": [],
   "source": [
    "def video_data(details, index):\n",
    "    views = details[1][index].findChildren('span')[0].text\n",
    "    period = details[1][index].findChildren('span')[1].text\n",
    "    titles = details[0][index].text\n",
    "    return {'title': titles,'views': views, 'Period': period}"
   ]
  },
  {
   "cell_type": "code",
   "execution_count": 6,
   "id": "80b72ee9-1d8d-40a6-8b29-51b621414616",
   "metadata": {},
   "outputs": [
    {
     "name": "stdout",
     "output_type": "stream",
     "text": [
      "30\n",
      "30\n"
     ]
    }
   ],
   "source": [
    "if __name__ == \"__main__\":\n",
    "    #importing html file \n",
    "#file = codecs.open(\"trial.html\", \"r\", \"utf-8\")\n",
    "#file = codecs.open(\"python-engineer.html\", \"r\", \"utf-8\")\n",
    "    file = codecs.open(\"tailwind-labs.html\", \"r\", \"utf-8\")\n",
    "    myfile = file.read()\n",
    "    soup = BeautifulSoup(myfile, 'lxml')\n",
    "    data_list = []\n",
    "    details = []\n",
    "    #print(soup.findAll('a', attrs={'id':'video-title'}))\n",
    "    details.append(soup.findAll('a', attrs={'id':'video-title'}))\n",
    "    details.append(soup.findAll('div', attrs={'id':'metadata-line'}))\n",
    "    print(len(details[0]))\n",
    "    print(len(details[1]))\n",
    "    for index in range(len(details[1])):\n",
    "        data_list.append(video_data(details, index))\n",
    "    data_frame = pd.DataFrame.from_dict(data_list)\n",
    "    data_frame.to_csv(\"youtube-M4K17.csv\") "
   ]
  },
  {
   "cell_type": "code",
   "execution_count": null,
   "id": "4ddf3da9-d343-424c-8763-3223743be586",
   "metadata": {},
   "outputs": [],
   "source": []
  }
 ],
 "metadata": {
  "kernelspec": {
   "display_name": "Python 3 (ipykernel)",
   "language": "python",
   "name": "python3"
  },
  "language_info": {
   "codemirror_mode": {
    "name": "ipython",
    "version": 3
   },
   "file_extension": ".py",
   "mimetype": "text/x-python",
   "name": "python",
   "nbconvert_exporter": "python",
   "pygments_lexer": "ipython3",
   "version": "3.9.12"
  }
 },
 "nbformat": 4,
 "nbformat_minor": 5
}
