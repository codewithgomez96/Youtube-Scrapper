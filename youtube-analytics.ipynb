{
 "cells": [
  {
   "cell_type": "code",
   "execution_count": 2,
   "id": "f09a30af-9a26-4336-b1fe-d08d14991bec",
   "metadata": {
    "tags": []
   },
   "outputs": [],
   "source": [
    "import requests\n",
    "from bs4 import BeautifulSoup\n",
    "# Import pandas library\n",
    "import pandas as pd\n"
   ]
  },
  {
   "cell_type": "code",
   "execution_count": 8,
   "id": "db487f9e-ee55-49b0-853e-6253e5dba939",
   "metadata": {},
   "outputs": [
    {
     "name": "stderr",
     "output_type": "stream",
     "text": [
      "C:\\Users\\ASUS\\anaconda3\\lib\\site-packages\\urllib3\\connectionpool.py:1043: InsecureRequestWarning: Unverified HTTPS request is being made to host 'www.youtube.com'. Adding certificate verification is strongly advised. See: https://urllib3.readthedocs.io/en/1.26.x/advanced-usage.html#ssl-warnings\n",
      "  warnings.warn(\n"
     ]
    }
   ],
   "source": [
    "headers = {'User-Agent': 'Mozilla/5.0 (Macintosh; Intel Mac OS X 10_10_1) AppleWebKit/537.36 (KHTML, like Gecko) Chrome/39.0.2171.95 Safari/537.36'}\n",
    "url = 'https://www.youtube.com/c/DennisIvy/videos'\n",
    "src = requests.get(url,headers,timeout=3, verify=False ).text"
   ]
  },
  {
   "cell_type": "code",
   "execution_count": null,
   "id": "e75281dd-9743-43b5-93fd-d70e131eff11",
   "metadata": {},
   "outputs": [],
   "source": []
  },
  {
   "cell_type": "code",
   "execution_count": 4,
   "id": "c75cdb13-c4a7-4cc3-a9b1-b1834420bc0f",
   "metadata": {},
   "outputs": [],
   "source": [
    "soup = BeautifulSoup(src, 'lxml')"
   ]
  },
  {
   "cell_type": "code",
   "execution_count": 6,
   "id": "5e1da8ef-eab6-4e14-9129-34603beb09bf",
   "metadata": {},
   "outputs": [],
   "source": [
    "soup = BeautifulSoup(src, 'lxml')\n",
    "data = soup.find('ul', attrs={'class': 'list-unstyled list_link'})\n",
    "#publications = data.find_all('li')\n",
    "def single_book(li_data):\n",
    "    title = li_data.find('div',attrs={'class': 'list_t'}).find('a').text\n",
    "    author = li_data.find('div',attrs={'class': 'txt5'}).find('a').text\n",
    "    year = li_data.find('div',attrs={'class': 'list_unit'}).text\n",
    "    journal = li_data.find('div',attrs={'class': 'list_unit'}).find_all('a')\n",
    "    jop = journal[0].text\n",
    "    vol = journal[1].text\n",
    "    year_space_str = year.strip()\n",
    "    year = year_space_str[len(jop)+len(vol)+1:]\n",
    "    doi = li_data.find('div',attrs={'class': 'list_doi'}).find('a').text\n",
    "    return {'Title':title, 'Author':author, 'Year':year, 'Journal Of Publication':jop, 'volume':vol, \n",
    "            'Year':year, 'DOI':doi }\n"
   ]
  },
  {
   "cell_type": "code",
   "execution_count": null,
   "id": "7d0a5759-cf2c-43f8-85f3-428199fcf550",
   "metadata": {},
   "outputs": [],
   "source": [
    "if __name__ == \"__main__\":\n",
    "    data_list = []\n",
    "    for publication in publications:\n",
    "        data_list.append(single_book(publication))\n",
    "    data_frame = pd.DataFrame.from_dict(data_list)\n",
    "    data_frame.to_csv(\"publications.csv\")"
   ]
  }
 ],
 "metadata": {
  "kernelspec": {
   "display_name": "Python 3 (ipykernel)",
   "language": "python",
   "name": "python3"
  },
  "language_info": {
   "codemirror_mode": {
    "name": "ipython",
    "version": 3
   },
   "file_extension": ".py",
   "mimetype": "text/x-python",
   "name": "python",
   "nbconvert_exporter": "python",
   "pygments_lexer": "ipython3",
   "version": "3.9.12"
  }
 },
 "nbformat": 4,
 "nbformat_minor": 5
}
