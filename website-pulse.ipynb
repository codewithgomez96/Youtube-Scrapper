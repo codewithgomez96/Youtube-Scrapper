{
 "cells": [
  {
   "cell_type": "code",
   "execution_count": 2,
   "id": "9c810095-fd6e-46ce-9a17-0aeb46fda066",
   "metadata": {
    "tags": []
   },
   "outputs": [],
   "source": [
    "import requests\n",
    "headers = {\"User-Agent\": \"Mozilla/5.0 (Windows NT 10.0; Win64; x64) AppleWebKit/537.36 (KHTML, like Gecko) Chrome/70.0.3538.77 Safari/537.36\"}\n",
    "url = \"https://codewithgomez.net/\"\n",
    "m = requests.get(url, headers=headers)"
   ]
  },
  {
   "cell_type": "code",
   "execution_count": 3,
   "id": "91a7ba79-cf64-4d76-81a8-49fbc8103894",
   "metadata": {},
   "outputs": [
    {
     "name": "stdout",
     "output_type": "stream",
     "text": [
      "hey\n"
     ]
    }
   ],
   "source": [
    "try:\n",
    "    r = requests.get(url, headers=headers, timeout=5)\n",
    "\n",
    "    if r.status_code != 200:\n",
    "        # logging.info('Website is DOWN!')\n",
    "        print(\"Website is DOWN!\",r.status_code)\n",
    "    else:\n",
    "        # logging.info('Website is UP')\n",
    "        print(\"hey\")\n",
    "except Exception as e:\n",
    "    # logging.info('Website is DOWN!')\n",
    "    print('an exception happened')\n",
    "    "
   ]
  },
  {
   "cell_type": "code",
   "execution_count": 15,
   "id": "1ae54d01-b799-424a-be42-46712dab5c58",
   "metadata": {},
   "outputs": [
    {
     "name": "stdout",
     "output_type": "stream",
     "text": [
      "Website is DOWN! 404\n",
      "https://cryptouniversity.co.za/ is up\n",
      "an exception happened HTTPSConnectionPool(host='codewithgomez.com', port=443): Max retries exceeded with url: / (Caused by NewConnectionError('<urllib3.connection.HTTPSConnection object at 0x000002116BAED430>: Failed to establish a new connection: [Errno 11001] getaddrinfo failed'))\n"
     ]
    }
   ],
   "source": [
    "websites = ['https://cryptouniversity.network/gomez', 'https://cryptouniversity.co.za/', 'https://codewithgomez.com/']\n",
    "for site in websites:\n",
    "    try:\n",
    "        r = requests.get(site, headers=headers, timeout=5)\n",
    "\n",
    "        if r.status_code != 200:\n",
    "            # logging.info('Website is DOWN!')\n",
    "            print(\"Website is DOWN!\",r.status_code)\n",
    "        else:\n",
    "            # logging.info('Website is UP')\n",
    "            print(site, \"is up\")\n",
    "    except Exception as e:\n",
    "        # logging.info('Website is DOWN!')\n",
    "        print('an exception happened', e)\n",
    "    "
   ]
  },
  {
   "cell_type": "code",
   "execution_count": null,
   "id": "f09a30af-9a26-4336-b1fe-d08d14991bec",
   "metadata": {},
   "outputs": [],
   "source": []
  }
 ],
 "metadata": {
  "kernelspec": {
   "display_name": "Python 3 (ipykernel)",
   "language": "python",
   "name": "python3"
  },
  "language_info": {
   "codemirror_mode": {
    "name": "ipython",
    "version": 3
   },
   "file_extension": ".py",
   "mimetype": "text/x-python",
   "name": "python",
   "nbconvert_exporter": "python",
   "pygments_lexer": "ipython3",
   "version": "3.9.12"
  }
 },
 "nbformat": 4,
 "nbformat_minor": 5
}
